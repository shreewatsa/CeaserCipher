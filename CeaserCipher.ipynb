{
 "cells": [
  {
   "cell_type": "markdown",
   "metadata": {},
   "source": [
    "# Ceaser Cipher"
   ]
  },
  {
   "cell_type": "markdown",
   "metadata": {},
   "source": [
    "## Encryption Procedure"
   ]
  },
  {
   "cell_type": "code",
   "execution_count": 1,
   "metadata": {},
   "outputs": [
    {
     "name": "stdout",
     "output_type": "stream",
     "text": [
      "Enter message: hello\n",
      "Enter the key: 5\n",
      "Encrypted message is : mjqqt\n"
     ]
    }
   ],
   "source": [
    "plaintext = input('Enter message: ')\n",
    "alphabet = \"abcdefghijklmnopqrstuvwxyz\"\n",
    "key = input('Enter the key: ')\n",
    "cipher = ''\n",
    "for c in plaintext:\n",
    "    if c in alphabet:\n",
    "        cipher += alphabet[(alphabet.index(c)+int(key))%(len(alphabet))]\n",
    "        \n",
    "print('Encrypted message is : ' + cipher)"
   ]
  },
  {
   "cell_type": "markdown",
   "metadata": {},
   "source": [
    "## Decryption Procedure"
   ]
  },
  {
   "cell_type": "code",
   "execution_count": 2,
   "metadata": {},
   "outputs": [
    {
     "name": "stdout",
     "output_type": "stream",
     "text": [
      "Enter the ciphertext: mjqqt\n",
      "Enter the key: 5\n",
      "Decrypted message is: hello\n"
     ]
    }
   ],
   "source": [
    "cipherText = input('Enter the ciphertext: ')\n",
    "alphabet = \"abcdefghijklmnopqrstuvwxyz\"\n",
    "key = input('Enter the key: ')\n",
    "plainText = ''\n",
    "for c in cipherText:\n",
    "    if c in alphabet:\n",
    "        plainText += alphabet[(alphabet.index(c)+26-int(key))%len(alphabet)]\n",
    "        \n",
    "print('Decrypted message is: ' + plainText)"
   ]
  }
 ],
 "metadata": {
  "kernelspec": {
   "display_name": "Python 3",
   "language": "python",
   "name": "python3"
  },
  "language_info": {
   "codemirror_mode": {
    "name": "ipython",
    "version": 3
   },
   "file_extension": ".py",
   "mimetype": "text/x-python",
   "name": "python",
   "nbconvert_exporter": "python",
   "pygments_lexer": "ipython3",
   "version": "3.6.4"
  }
 },
 "nbformat": 4,
 "nbformat_minor": 2
}
