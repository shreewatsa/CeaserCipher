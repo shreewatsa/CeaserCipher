{
 "cells": [
  {
   "cell_type": "markdown",
   "metadata": {},
   "source": [
    "# Ceaser Cipher"
   ]
  },
  {
   "cell_type": "markdown",
   "metadata": {},
   "source": [
    "## Encryption Procedure"
   ]
  },
  {
   "cell_type": "code",
   "execution_count": 6,
   "metadata": {},
   "outputs": [
    {
     "name": "stdout",
     "output_type": "stream",
     "text": [
      "Enter message: HelloWorld\n",
      "Enter the key(1-25): 14\n",
      "Encrypted message is : vszzckcfzr\n"
     ]
    }
   ],
   "source": [
    "plaintext = input('Enter message: ').lower()\n",
    "alphabet = \"abcdefghijklmnopqrstuvwxyz\"\n",
    "key = input('Enter the key(1-25): ')\n",
    "if int(key) in range(25):\n",
    "    cipher = ''\n",
    "    for c in plaintext:\n",
    "        if c in alphabet:\n",
    "            cipher += alphabet[(alphabet.index(c)+int(key))%(len(alphabet))]\n",
    "        else:\n",
    "            print(\"Message should be in alphabets !\")\n",
    "            break\n",
    "    print('Encrypted message is : ' + cipher)\n",
    "else:\n",
    "    print(\"Invalid key value !\")"
   ]
  },
  {
   "cell_type": "markdown",
   "metadata": {},
   "source": [
    "## Decryption Procedure"
   ]
  },
  {
   "cell_type": "code",
   "execution_count": 7,
   "metadata": {},
   "outputs": [
    {
     "name": "stdout",
     "output_type": "stream",
     "text": [
      "Enter the ciphertext: vszzckcfzr\n",
      "Enter the key(1-25): 14\n",
      "Decrypted message is: helloworld\n"
     ]
    }
   ],
   "source": [
    "cipherText = input('Enter the ciphertext: ').lower()\n",
    "alphabet = \"abcdefghijklmnopqrstuvwxyz\"\n",
    "key = input('Enter the key(1-25): ')\n",
    "if int(key) in range(25):\n",
    "    plainText = ''\n",
    "    for c in cipherText:\n",
    "        if c in alphabet:\n",
    "            plainText += alphabet[(alphabet.index(c)+26-int(key))%len(alphabet)]\n",
    "        else:\n",
    "            print(\"Cipher text must be in alphabets !\")\n",
    "            break\n",
    "    print('Decrypted message is: ' + plainText)\n",
    "else:\n",
    "    print(\"Invalid key value !\")"
   ]
  }
 ],
 "metadata": {
  "kernelspec": {
   "display_name": "Python 3",
   "language": "python",
   "name": "python3"
  },
  "language_info": {
   "codemirror_mode": {
    "name": "ipython",
    "version": 3
   },
   "file_extension": ".py",
   "mimetype": "text/x-python",
   "name": "python",
   "nbconvert_exporter": "python",
   "pygments_lexer": "ipython3",
   "version": "3.6.3"
  }
 },
 "nbformat": 4,
 "nbformat_minor": 2
}
